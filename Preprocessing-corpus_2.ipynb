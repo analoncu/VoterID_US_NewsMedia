{
 "cells": [
  {
   "cell_type": "markdown",
   "metadata": {},
   "source": [
    "# Pre-processing workflow\n",
    "\n",
    "Main tasks:\n",
    "- preprocess corpus\n",
    "- conduct shifterator analysis on headlines\n",
    "\n",
    "OG count: 6104199 58256\n",
    "\n",
    "1.\tRemove words that occur less than 3 times: 5929426 58256\n",
    "2.\tRemoving noise from scrapping: 5919252 57949\n",
    "3.\tFind and compound bigrams/names: 5891138 57220\n",
    "4.\tConvert to lower case\n",
    "5.\tRemove symbols: 5805431 56446\n",
    "6.\tChange ID to identification\n",
    "7.\tRemove stopwords: 2678786 38846\n",
    "8.\tCreate columns for lemmatised text and titles\n",
    "9.\tCreate column with fullstops for word embedding analysis: 2678786 38828\n",
    "\n",
    "FINAL COUNT: 2678786 38828"
   ]
  },
  {
   "cell_type": "code",
   "execution_count": 148,
   "metadata": {},
   "outputs": [
    {
     "name": "stderr",
     "output_type": "stream",
     "text": [
      "[nltk_data] Downloading package punkt to\n",
      "[nltk_data]     C:\\Users\\2146806A\\AppData\\Roaming\\nltk_data...\n",
      "[nltk_data]   Package punkt is already up-to-date!\n",
      "[nltk_data] Downloading package wordnet to\n",
      "[nltk_data]     C:\\Users\\2146806A\\AppData\\Roaming\\nltk_data...\n",
      "[nltk_data]   Package wordnet is already up-to-date!\n",
      "[nltk_data] Downloading package averaged_perceptron_tagger to\n",
      "[nltk_data]     C:\\Users\\2146806A\\AppData\\Roaming\\nltk_data...\n",
      "[nltk_data]   Package averaged_perceptron_tagger is already up-to-\n",
      "[nltk_data]       date!\n"
     ]
    }
   ],
   "source": [
    "# Importing modules\n",
    "# import re, nltk, numpy, matplotlib\n",
    "# nltk.download('punkt')\n",
    "# nltk.download('wordnet')\n",
    "# nltk.download('averaged_perceptron_tagger')\n",
    "# from nltk.stem import WordNetLemmatizer, PorterStemmer, SnowballStemmer\n",
    "# from nltk.corpus import stopwords\n",
    "# from nltk.tokenize import word_tokenize\n",
    "# from sklearn.feature_extraction.text import CountVectorizer, TfidfVectorizer, TfidfTransformer \n",
    "# from sklearn.decomposition import LatentDirichletAllocation\n",
    "# from gensim import corpora\n",
    "\n",
    "import pandas as pd\n",
    "from nltk.tokenize import word_tokenize\n",
    "from nltk.text import Text\n",
    "from nltk.stem import WordNetLemmatizer\n",
    "from collections import Counter\n",
    "from itertools import chain\n",
    "import spacy, nltk\n",
    "import matplotlib.pyplot as plt\n",
    "from nltk.util import ngrams"
   ]
  },
  {
   "cell_type": "code",
   "execution_count": 94,
   "metadata": {},
   "outputs": [
    {
     "data": {
      "text/html": [
       "<div>\n",
       "<style scoped>\n",
       "    .dataframe tbody tr th:only-of-type {\n",
       "        vertical-align: middle;\n",
       "    }\n",
       "\n",
       "    .dataframe tbody tr th {\n",
       "        vertical-align: top;\n",
       "    }\n",
       "\n",
       "    .dataframe thead th {\n",
       "        text-align: right;\n",
       "    }\n",
       "</style>\n",
       "<table border=\"1\" class=\"dataframe\">\n",
       "  <thead>\n",
       "    <tr style=\"text-align: right;\">\n",
       "      <th></th>\n",
       "      <th>date</th>\n",
       "      <th>maintext</th>\n",
       "      <th>title</th>\n",
       "      <th>source</th>\n",
       "      <th>media_name</th>\n",
       "      <th>ideology</th>\n",
       "      <th>Congress</th>\n",
       "    </tr>\n",
       "  </thead>\n",
       "  <tbody>\n",
       "    <tr>\n",
       "      <th>0</th>\n",
       "      <td>03/01/2013</td>\n",
       "      <td>GREG GUTFELD, CO-HOST: Hello, America. I'm G...</td>\n",
       "      <td>Reagan Era Over?; Al Jazeera Buys Current TV</td>\n",
       "      <td>C:/Users/2146806A/OneDrive - University of Gla...</td>\n",
       "      <td>Fox News</td>\n",
       "      <td>right</td>\n",
       "      <td>113th</td>\n",
       "    </tr>\n",
       "    <tr>\n",
       "      <th>1</th>\n",
       "      <td>11/01/2013</td>\n",
       "      <td>With the latest threat to his leadership eas...</td>\n",
       "      <td>His Job Safe, Straus's Next Challenge Is the G...</td>\n",
       "      <td>C:/Users/2146806A/OneDrive - University of Gla...</td>\n",
       "      <td>The New York Times</td>\n",
       "      <td>left</td>\n",
       "      <td>113th</td>\n",
       "    </tr>\n",
       "    <tr>\n",
       "      <th>2</th>\n",
       "      <td>18/01/2013</td>\n",
       "      <td>Story highlights Nicolaus Mills remembers MLK'...</td>\n",
       "      <td>48 years after MLK march, voting rights still ...</td>\n",
       "      <td>https://edition.cnn.com/2013/01/18/opinion/mil...</td>\n",
       "      <td>CNN</td>\n",
       "      <td>left</td>\n",
       "      <td>113th</td>\n",
       "    </tr>\n",
       "    <tr>\n",
       "      <th>3</th>\n",
       "      <td>20/01/2013</td>\n",
       "      <td>Barack and Michelle Obama have spent more th...</td>\n",
       "      <td>Change Comes: After 4 Years, Friends See Shift...</td>\n",
       "      <td>C:/Users/2146806A/OneDrive - University of Gla...</td>\n",
       "      <td>The New York Times</td>\n",
       "      <td>left</td>\n",
       "      <td>113th</td>\n",
       "    </tr>\n",
       "    <tr>\n",
       "      <th>4</th>\n",
       "      <td>21/01/2013</td>\n",
       "      <td>SEAN HANNITY, HOST: And welcome to HANNITY, ...</td>\n",
       "      <td>Interview with Karl Rove</td>\n",
       "      <td>C:/Users/2146806A/OneDrive - University of Gla...</td>\n",
       "      <td>Fox News</td>\n",
       "      <td>right</td>\n",
       "      <td>113th</td>\n",
       "    </tr>\n",
       "  </tbody>\n",
       "</table>\n",
       "</div>"
      ],
      "text/plain": [
       "         date                                           maintext  \\\n",
       "0  03/01/2013    GREG GUTFELD, CO-HOST: Hello, America. I'm G...   \n",
       "1  11/01/2013    With the latest threat to his leadership eas...   \n",
       "2  18/01/2013  Story highlights Nicolaus Mills remembers MLK'...   \n",
       "3  20/01/2013    Barack and Michelle Obama have spent more th...   \n",
       "4  21/01/2013    SEAN HANNITY, HOST: And welcome to HANNITY, ...   \n",
       "\n",
       "                                               title  \\\n",
       "0       Reagan Era Over?; Al Jazeera Buys Current TV   \n",
       "1  His Job Safe, Straus's Next Challenge Is the G...   \n",
       "2  48 years after MLK march, voting rights still ...   \n",
       "3  Change Comes: After 4 Years, Friends See Shift...   \n",
       "4                           Interview with Karl Rove   \n",
       "\n",
       "                                              source          media_name  \\\n",
       "0  C:/Users/2146806A/OneDrive - University of Gla...            Fox News   \n",
       "1  C:/Users/2146806A/OneDrive - University of Gla...  The New York Times   \n",
       "2  https://edition.cnn.com/2013/01/18/opinion/mil...                 CNN   \n",
       "3  C:/Users/2146806A/OneDrive - University of Gla...  The New York Times   \n",
       "4  C:/Users/2146806A/OneDrive - University of Gla...            Fox News   \n",
       "\n",
       "  ideology Congress  \n",
       "0    right    113th  \n",
       "1     left    113th  \n",
       "2     left    113th  \n",
       "3     left    113th  \n",
       "4    right    113th  "
      ]
     },
     "execution_count": 94,
     "metadata": {},
     "output_type": "execute_result"
    }
   ],
   "source": [
    "# load categorised data by media ideological affiliation\n",
    "df = pd.read_csv('C:/Users/2146806A/OneDrive - University of Glasgow/University of Glasgow/Amsterdam Visit/GITHUB FILES/Data/Mediacloud-NexisUni-corpus2.csv', encoding='utf-8')\n",
    "df.rename(columns={'ï»¿date': 'date'}, inplace=True)\n",
    "df = df[df['Congress'] != 'other']\n",
    "df.head()  "
   ]
  },
  {
   "cell_type": "code",
   "execution_count": 95,
   "metadata": {},
   "outputs": [],
   "source": [
    "# convert text to string\n",
    "df['maintext'] = df['maintext'].apply(str)\n",
    "df['title'] = df['title'].apply(str)"
   ]
  },
  {
   "cell_type": "code",
   "execution_count": 84,
   "metadata": {},
   "outputs": [
    {
     "name": "stdout",
     "output_type": "stream",
     "text": [
      "Displaying 10 of 44 matches:\n",
      "rizonaus missing election results prove early mail_in voting bad idea republicans expand control de\n",
      "te voter identification law ballot error void mail_in votes jersey anti_voter supreme_court democra\n",
      "awsuits horizon democrats gear push universal mail_in voting barack obama joins push vote_by_mail c\n",
      "ory mexico victory vote_fraud_protection_free mail_in voting 'do_or_die moment ' boost vote_by_mail\n",
      "ter identification requirement letters editor mail_in votes bad idea nationwide mail_in voting ball\n",
      "ters editor mail_in votes bad idea nationwide mail_in voting ballot harvesting democrats unveil tri\n",
      "reus ballot harvesting democratsu push expand mail_in voting republicans sue california gov gavin n\n",
      " house memorial day democrats remove barriers mail_in voting college students foreign workers pause\n",
      "rule pandemic ok 'd house john pudner trumpus mail_in voting comments accidentally suppress gop tur\n",
      "ansu strategy people voting editorial roundup mail_in voting ballot harvesting 'ripe corruption ' m\n",
      "None\n"
     ]
    }
   ],
   "source": [
    "## CONCORDANCE ANALYSIS\n",
    "# Assuming you have a DataFrame 'df' with 'maintext' and 'title' columns\n",
    "corpus_title = \" \".join(df['title'])\n",
    "tokens_title = word_tokenize(corpus_title)\n",
    "text_title = Text(tokens_title)\n",
    "\n",
    "# Function to generate concordance for a word in a given text\n",
    "def generate_concordance(text, word):\n",
    "    return text.concordance(word, width=100, lines=10)\n",
    "\n",
    "# Generate concordances for \"mail\" and \"mail-in\" in maintext\n",
    "concordance_mail_maintext = generate_concordance(text_title, \"mail_in\")\n",
    "\n",
    "print(concordance_mail_maintext)"
   ]
  },
  {
   "cell_type": "code",
   "execution_count": 29,
   "metadata": {},
   "outputs": [
    {
     "name": "stdout",
     "output_type": "stream",
     "text": [
      "6104199 58256\n"
     ]
    }
   ],
   "source": [
    "# word count for maintext and headlines\n",
    "print(df['maintext'].str.split().str.len().sum(), df['title'].str.split().str.len().sum())"
   ]
  },
  {
   "cell_type": "markdown",
   "metadata": {},
   "source": [
    "### 1. Remove words that occur less than 3 times"
   ]
  },
  {
   "cell_type": "code",
   "execution_count": 96,
   "metadata": {},
   "outputs": [],
   "source": [
    "# split words into lists\n",
    "v = df['maintext'].str.split().tolist() # [s.split() for s in df['Col2'].tolist()]\n",
    "# compute global word frequency\n",
    "c = Counter(chain.from_iterable(v))\n",
    "# filter, join, and re-assign\n",
    "df['maintext'] = [' '.join([j for j in i if c[j] > 3]) for i in v]"
   ]
  },
  {
   "cell_type": "code",
   "execution_count": 6,
   "metadata": {},
   "outputs": [
    {
     "name": "stdout",
     "output_type": "stream",
     "text": [
      "5929426 58256\n"
     ]
    }
   ],
   "source": [
    "print(df['maintext'].str.split().str.len().sum(), df['title'].str.split().str.len().sum())"
   ]
  },
  {
   "cell_type": "markdown",
   "metadata": {},
   "source": [
    "#### 2. Finding and compounding top bigrams"
   ]
  },
  {
   "cell_type": "code",
   "execution_count": 7,
   "metadata": {},
   "outputs": [
    {
     "data": {
      "text/html": [
       "<div>\n",
       "<style scoped>\n",
       "    .dataframe tbody tr th:only-of-type {\n",
       "        vertical-align: middle;\n",
       "    }\n",
       "\n",
       "    .dataframe tbody tr th {\n",
       "        vertical-align: top;\n",
       "    }\n",
       "\n",
       "    .dataframe thead th {\n",
       "        text-align: right;\n",
       "    }\n",
       "</style>\n",
       "<table border=\"1\" class=\"dataframe\">\n",
       "  <thead>\n",
       "    <tr style=\"text-align: right;\">\n",
       "      <th></th>\n",
       "      <th>word</th>\n",
       "      <th>freq</th>\n",
       "    </tr>\n",
       "  </thead>\n",
       "  <tbody>\n",
       "    <tr>\n",
       "      <th>0</th>\n",
       "      <td>(of, the)</td>\n",
       "      <td>32299</td>\n",
       "    </tr>\n",
       "    <tr>\n",
       "      <th>1</th>\n",
       "      <td>(in, the)</td>\n",
       "      <td>24777</td>\n",
       "    </tr>\n",
       "    <tr>\n",
       "      <th>2</th>\n",
       "      <td>(to, the)</td>\n",
       "      <td>14194</td>\n",
       "    </tr>\n",
       "    <tr>\n",
       "      <th>3</th>\n",
       "      <td>(on, the)</td>\n",
       "      <td>10941</td>\n",
       "    </tr>\n",
       "    <tr>\n",
       "      <th>4</th>\n",
       "      <td>(to, be)</td>\n",
       "      <td>9516</td>\n",
       "    </tr>\n",
       "    <tr>\n",
       "      <th>5</th>\n",
       "      <td>(going, to)</td>\n",
       "      <td>9382</td>\n",
       "    </tr>\n",
       "    <tr>\n",
       "      <th>6</th>\n",
       "      <td>(for, the)</td>\n",
       "      <td>8506</td>\n",
       "    </tr>\n",
       "    <tr>\n",
       "      <th>7</th>\n",
       "      <td>(and, the)</td>\n",
       "      <td>8323</td>\n",
       "    </tr>\n",
       "    <tr>\n",
       "      <th>8</th>\n",
       "      <td>(that, the)</td>\n",
       "      <td>8000</td>\n",
       "    </tr>\n",
       "    <tr>\n",
       "      <th>9</th>\n",
       "      <td>(at, the)</td>\n",
       "      <td>7499</td>\n",
       "    </tr>\n",
       "    <tr>\n",
       "      <th>10</th>\n",
       "      <td>(in, a)</td>\n",
       "      <td>6754</td>\n",
       "    </tr>\n",
       "    <tr>\n",
       "      <th>11</th>\n",
       "      <td>(is, a)</td>\n",
       "      <td>6000</td>\n",
       "    </tr>\n",
       "    <tr>\n",
       "      <th>12</th>\n",
       "      <td>(by, the)</td>\n",
       "      <td>5604</td>\n",
       "    </tr>\n",
       "    <tr>\n",
       "      <th>13</th>\n",
       "      <td>(with, the)</td>\n",
       "      <td>5523</td>\n",
       "    </tr>\n",
       "    <tr>\n",
       "      <th>14</th>\n",
       "      <td>(from, the)</td>\n",
       "      <td>5117</td>\n",
       "    </tr>\n",
       "  </tbody>\n",
       "</table>\n",
       "</div>"
      ],
      "text/plain": [
       "           word   freq\n",
       "0     (of, the)  32299\n",
       "1     (in, the)  24777\n",
       "2     (to, the)  14194\n",
       "3     (on, the)  10941\n",
       "4      (to, be)   9516\n",
       "5   (going, to)   9382\n",
       "6    (for, the)   8506\n",
       "7    (and, the)   8323\n",
       "8   (that, the)   8000\n",
       "9     (at, the)   7499\n",
       "10      (in, a)   6754\n",
       "11      (is, a)   6000\n",
       "12    (by, the)   5604\n",
       "13  (with, the)   5523\n",
       "14  (from, the)   5117"
      ]
     },
     "execution_count": 7,
     "metadata": {},
     "output_type": "execute_result"
    }
   ],
   "source": [
    "\n",
    "n_gram = 2\n",
    "ngram = pd.DataFrame(Counter(ngrams(\" \".join(df[\"maintext\"]).split(), n_gram)).most_common(50))\n",
    "ngram.columns=['word', 'freq']\n",
    "ngram.head(15)"
   ]
  },
  {
   "cell_type": "code",
   "execution_count": 9,
   "metadata": {},
   "outputs": [
    {
     "data": {
      "text/html": [
       "<div>\n",
       "<style scoped>\n",
       "    .dataframe tbody tr th:only-of-type {\n",
       "        vertical-align: middle;\n",
       "    }\n",
       "\n",
       "    .dataframe tbody tr th {\n",
       "        vertical-align: top;\n",
       "    }\n",
       "\n",
       "    .dataframe thead th {\n",
       "        text-align: right;\n",
       "    }\n",
       "</style>\n",
       "<table border=\"1\" class=\"dataframe\">\n",
       "  <thead>\n",
       "    <tr style=\"text-align: right;\">\n",
       "      <th></th>\n",
       "      <th>word</th>\n",
       "      <th>freq</th>\n",
       "    </tr>\n",
       "  </thead>\n",
       "  <tbody>\n",
       "    <tr>\n",
       "      <th>0</th>\n",
       "      <td>(Voter, ID)</td>\n",
       "      <td>236</td>\n",
       "    </tr>\n",
       "    <tr>\n",
       "      <th>1</th>\n",
       "      <td>(Voting, Rights)</td>\n",
       "      <td>172</td>\n",
       "    </tr>\n",
       "    <tr>\n",
       "      <th>2</th>\n",
       "      <td>(voter, ID)</td>\n",
       "      <td>157</td>\n",
       "    </tr>\n",
       "    <tr>\n",
       "      <th>3</th>\n",
       "      <td>(Supreme, Court)</td>\n",
       "      <td>121</td>\n",
       "    </tr>\n",
       "    <tr>\n",
       "      <th>4</th>\n",
       "      <td>(North, Carolina)</td>\n",
       "      <td>113</td>\n",
       "    </tr>\n",
       "    <tr>\n",
       "      <th>5</th>\n",
       "      <td>(Interview, With)</td>\n",
       "      <td>105</td>\n",
       "    </tr>\n",
       "    <tr>\n",
       "      <th>6</th>\n",
       "      <td>(Opinion, :)</td>\n",
       "      <td>92</td>\n",
       "    </tr>\n",
       "    <tr>\n",
       "      <th>7</th>\n",
       "      <td>(ID, Law)</td>\n",
       "      <td>88</td>\n",
       "    </tr>\n",
       "    <tr>\n",
       "      <th>8</th>\n",
       "      <td>(ID, law)</td>\n",
       "      <td>77</td>\n",
       "    </tr>\n",
       "    <tr>\n",
       "      <th>9</th>\n",
       "      <td>(Interview, with)</td>\n",
       "      <td>71</td>\n",
       "    </tr>\n",
       "  </tbody>\n",
       "</table>\n",
       "</div>"
      ],
      "text/plain": [
       "                word  freq\n",
       "0        (Voter, ID)   236\n",
       "1   (Voting, Rights)   172\n",
       "2        (voter, ID)   157\n",
       "3   (Supreme, Court)   121\n",
       "4  (North, Carolina)   113\n",
       "5  (Interview, With)   105\n",
       "6       (Opinion, :)    92\n",
       "7          (ID, Law)    88\n",
       "8          (ID, law)    77\n",
       "9  (Interview, with)    71"
      ]
     },
     "execution_count": 9,
     "metadata": {},
     "output_type": "execute_result"
    }
   ],
   "source": [
    "from nltk.util import ngrams\n",
    "n_gram = 2\n",
    "ngram = pd.DataFrame(Counter(ngrams(\" \".join(df[\"title\"]).split(), n_gram)).most_common(50))\n",
    "ngram.columns=['word', 'freq']\n",
    "ngram.head(10)"
   ]
  },
  {
   "cell_type": "markdown",
   "metadata": {},
   "source": [
    "#### 3. Remove irrelevant words"
   ]
  },
  {
   "cell_type": "code",
   "execution_count": 97,
   "metadata": {},
   "outputs": [],
   "source": [
    "import re\n",
    "\n",
    "words_to_remove = [\n",
    "    r'\\bVIDEO\\b', \n",
    "    r'\\bCLIP\\b', \n",
    "    r'\\bBEGIN\\b', \n",
    "    r'\\bEND\\b', \n",
    "    r'\\bFOX NEWS\\b', \n",
    "    r'\\bNEW YORK\\b',\n",
    "    r'\\bOpinion\\b',\n",
    "    r'\\bInterview With\\b', \n",
    "    r'\\badvertisement\\b',\n",
    "    r'\\bADVERTISEMENT\\b',\n",
    "    r'\\b<U+0092>\\b',\n",
    "    r'\\b<U+0097>\\b',\n",
    "    r'\\b<U+0091>\\b'\n",
    "]\n",
    "\n",
    "pattern = '|'.join(words_to_remove)\n",
    "df['maintext'] = df['maintext'].str.replace(pattern, '', regex=True)\n",
    "df['title'] = df['title'].str.replace(pattern, '', regex=True)"
   ]
  },
  {
   "cell_type": "code",
   "execution_count": 9,
   "metadata": {},
   "outputs": [
    {
     "name": "stdout",
     "output_type": "stream",
     "text": [
      "5919252 57949\n"
     ]
    }
   ],
   "source": [
    "print(df['maintext'].str.split().str.len().sum(), df['title'].str.split().str.len().sum())"
   ]
  },
  {
   "cell_type": "markdown",
   "metadata": {},
   "source": [
    "### 4. Join bigrams"
   ]
  },
  {
   "cell_type": "markdown",
   "metadata": {},
   "source": [
    "Now that we know common bigrams we can go back to preprocessing and join these in the text so that they are subsequently treated as 1 token instead of 2. "
   ]
  },
  {
   "cell_type": "code",
   "execution_count": 98,
   "metadata": {},
   "outputs": [],
   "source": [
    "def bigrams(raw_text):\n",
    "    text = raw_text.replace(\"Supreme Court\", \"supreme_court\")\n",
    "    text = text.replace(\"Donald Trump\", \"trump\")\n",
    "    text = text.replace(\"White House\", \"white_house\")\n",
    "    text = text.replace(\"coronavirus\", \"covid\")\n",
    "    text = text.replace(\"Joe Biden\", \"biden\")\n",
    "    text = text.replace(\"Jim Crow\", \"jim_crow\")\n",
    "    text = text.replace(\"Kamala Harris\", \"kamala_harris\")\n",
    "    text = text.replace(\"Stacey Abrams\", \"stacey_abrams\")\n",
    "    text = text.replace(\"Hillary Clinton\", \"hillary_clinton\")\n",
    "    text = text.replace(\"South Carolina\", \"south_carolina\")\n",
    "    text = text.replace(\"North Carolina\", \"north_carolina\")\n",
    "    text = text.replace(\"United States\", \"united_states\")\n",
    "    text = text.replace(\"US\", \"united_states\")\n",
    "    text = text.replace(\"U.S.\", \"united_states\")\n",
    "    text = text.replace(\"USA\", \"united_states\")\n",
    "    text = text.replace(\"Voting Rights Act\", \"VRA\")\n",
    "    text = text.replace(\"Sean Hannity\", \"hannity\")\n",
    "    text = text.replace(\"Fox News\", \"fox_news\")\n",
    "    text = text.replace(\"Sen.\", \"senator\")\n",
    "    text = text.replace(\"'s\", '')\n",
    "    text = text.replace(\"Placeholder while article actions load\", '')\n",
    "    text = text.replace(\"g.o.p\", \"gop\")\n",
    "    text = text.replace(\"G.A.\", \"Georgia\")\n",
    "    text = text.replace(\"N.C.\", \"North Carolina\")\n",
    "    text = text.replace(\"Ron Desantis\", \"ron_desantis\")\n",
    "    text = text.replace(\"John Lewis\", \"john_lewis\")\n",
    "    text = text.replace(\"G.O.P\", \"gop\")\n",
    "     # split into words -> convert string into list\n",
    "    words = text.split()\n",
    "    words =[\" \".join(words.split()) for words in words]   # remove double spaces by splitting the strings into words and joining these words again\n",
    "    # converting list back to string\n",
    "    return \" \".join(words)\n",
    "\n",
    "df['maintext'] = df['maintext'].apply(bigrams)\n",
    "df['title'] = df['title'].apply(bigrams)"
   ]
  },
  {
   "cell_type": "code",
   "execution_count": 99,
   "metadata": {},
   "outputs": [],
   "source": [
    "df['title'] = df['title'].str.replace('-', ' ')"
   ]
  },
  {
   "cell_type": "code",
   "execution_count": 11,
   "metadata": {},
   "outputs": [
    {
     "name": "stdout",
     "output_type": "stream",
     "text": [
      "5891138 57220\n"
     ]
    }
   ],
   "source": [
    "print(df['maintext'].str.split().str.len().sum(), df['title'].str.split().str.len().sum())"
   ]
  },
  {
   "cell_type": "markdown",
   "metadata": {},
   "source": [
    "#### 5. Convert to lower case"
   ]
  },
  {
   "cell_type": "code",
   "execution_count": 100,
   "metadata": {},
   "outputs": [],
   "source": [
    "# Function to convert text to lowercase\n",
    "def convert_to_lowercase(raw_text):\n",
    "    return raw_text.lower()\n",
    "\n",
    "# Apply the lowercase conversion function to 'maintext' and 'title' columns\n",
    "df['maintext'] = df['maintext'].apply(convert_to_lowercase)\n",
    "df['title'] = df['title'].apply(convert_to_lowercase)"
   ]
  },
  {
   "cell_type": "markdown",
   "metadata": {},
   "source": [
    "### 6. Remove symbols except for underscores"
   ]
  },
  {
   "cell_type": "code",
   "execution_count": 101,
   "metadata": {},
   "outputs": [],
   "source": [
    "import re\n",
    "\n",
    "def remove_symbols(text):\n",
    "    # define the symbols to keep\n",
    "    symbols_to_keep = '_@.£'\n",
    "    \n",
    "    # define the regex pattern to match all symbols and numbers except for the ones to keep\n",
    "    pattern = re.compile(f'[^a-zA-Z {symbols_to_keep}\\']+')\n",
    "    \n",
    "    # use the pattern to replace all symbols and numbers except for the ones to keep with an empty string\n",
    "    cleaned_text = re.sub(pattern, '', text)\n",
    "    \n",
    "    return cleaned_text\n",
    "\n",
    "df['maintext'] = df['maintext'].apply(remove_symbols)\n",
    "df['title'] = df['title'].apply(remove_symbols)"
   ]
  },
  {
   "cell_type": "code",
   "execution_count": null,
   "metadata": {},
   "outputs": [],
   "source": [
    "#df['title_lemma'] = df['title_lemma'].apply(remove_symbols)"
   ]
  },
  {
   "cell_type": "code",
   "execution_count": 14,
   "metadata": {},
   "outputs": [
    {
     "name": "stdout",
     "output_type": "stream",
     "text": [
      "5805431 56446\n"
     ]
    }
   ],
   "source": [
    "print(df['maintext'].str.split().str.len().sum(), df['title'].str.split().str.len().sum())"
   ]
  },
  {
   "cell_type": "markdown",
   "metadata": {},
   "source": [
    "### 7. Change ID to identification"
   ]
  },
  {
   "cell_type": "code",
   "execution_count": 102,
   "metadata": {},
   "outputs": [],
   "source": [
    "def change(text):\n",
    "    text = text.replace(\" id \", \" identification \")\n",
    "    text = text.replace(\" id,\", \" identification,\")\n",
    "    text = text.replace(\" id.\", \" identification,\")\n",
    "     # split into words -> convert string into list\n",
    "    words = text.split()\n",
    "    words =[\" \".join(words.split()) for words in words]   # remove double spaces by splitting the strings into words and joining these words again\n",
    "    # converting list back to string\n",
    "    return \" \".join(words)\n",
    "\n",
    "df['maintext'] = df['maintext'].apply(change)\n",
    "df['title'] = df['title'].apply(change)"
   ]
  },
  {
   "cell_type": "code",
   "execution_count": 16,
   "metadata": {},
   "outputs": [
    {
     "name": "stdout",
     "output_type": "stream",
     "text": [
      "5805431 56446\n"
     ]
    }
   ],
   "source": [
    "print(df['maintext'].str.split().str.len().sum(), df['title'].str.split().str.len().sum())"
   ]
  },
  {
   "cell_type": "markdown",
   "metadata": {},
   "source": [
    "### 8. Remove stopwords"
   ]
  },
  {
   "cell_type": "code",
   "execution_count": 103,
   "metadata": {},
   "outputs": [],
   "source": [
    "stop_words_file = 'C:/Users/2146806A/OneDrive - University of Glasgow/University of Glasgow/Amsterdam Visit/GITHUB FILES/english.stop.txt' # Stopword list\n",
    "\n",
    "stop_words = []\n",
    "\n",
    "with open(stop_words_file, \"r\") as f:\n",
    "    for line in f:\n",
    "        stop_words.extend(line.split()) \n",
    "        \n",
    "stop_words = stop_words\n",
    "\n",
    "def remove_stopwords(text):\n",
    "    # Tokenize the input text\n",
    "    tokens = text.split()  # Assuming the text is space-separated\n",
    "    \n",
    "    # Remove stopwords from the tokenized text\n",
    "    filtered_tokens = [word for word in tokens if word.lower() not in stop_words]\n",
    "    \n",
    "    # Join the filtered tokens back into a single string\n",
    "    return ' '.join(filtered_tokens)\n",
    "\n",
    "# Apply the remove_stopwords function to the 'maintext' column\n",
    "#df['maintext'] = df['maintext'].apply(remove_stopwords)\n",
    "df['title'] = df['title'].apply(remove_stopwords)"
   ]
  },
  {
   "cell_type": "code",
   "execution_count": 19,
   "metadata": {},
   "outputs": [
    {
     "name": "stdout",
     "output_type": "stream",
     "text": [
      "2678786 38846\n"
     ]
    }
   ],
   "source": [
    "print(df['maintext'].str.split().str.len().sum(), df['title'].str.split().str.len().sum())"
   ]
  },
  {
   "cell_type": "code",
   "execution_count": 81,
   "metadata": {},
   "outputs": [
    {
     "data": {
      "text/html": [
       "<div>\n",
       "<style scoped>\n",
       "    .dataframe tbody tr th:only-of-type {\n",
       "        vertical-align: middle;\n",
       "    }\n",
       "\n",
       "    .dataframe tbody tr th {\n",
       "        vertical-align: top;\n",
       "    }\n",
       "\n",
       "    .dataframe thead th {\n",
       "        text-align: right;\n",
       "    }\n",
       "</style>\n",
       "<table border=\"1\" class=\"dataframe\">\n",
       "  <thead>\n",
       "    <tr style=\"text-align: right;\">\n",
       "      <th></th>\n",
       "      <th>date</th>\n",
       "      <th>maintext</th>\n",
       "      <th>title</th>\n",
       "      <th>source</th>\n",
       "      <th>media_name</th>\n",
       "      <th>ideology</th>\n",
       "      <th>Congress</th>\n",
       "    </tr>\n",
       "  </thead>\n",
       "  <tbody>\n",
       "    <tr>\n",
       "      <th>0</th>\n",
       "      <td>03/01/2013</td>\n",
       "      <td>greg gutfeld cohost hello america. i'm greg gu...</td>\n",
       "      <td>reagan era al jazeera buys current tv</td>\n",
       "      <td>C:/Users/2146806A/OneDrive - University of Gla...</td>\n",
       "      <td>Fox News</td>\n",
       "      <td>right</td>\n",
       "      <td>113th</td>\n",
       "    </tr>\n",
       "    <tr>\n",
       "      <th>1</th>\n",
       "      <td>11/01/2013</td>\n",
       "      <td>with the latest threat to his leadership easil...</td>\n",
       "      <td>job safe straus challenge gop.</td>\n",
       "      <td>C:/Users/2146806A/OneDrive - University of Gla...</td>\n",
       "      <td>The New York Times</td>\n",
       "      <td>left</td>\n",
       "      <td>113th</td>\n",
       "    </tr>\n",
       "    <tr>\n",
       "      <th>2</th>\n",
       "      <td>18/01/2013</td>\n",
       "      <td>story highlights mills remembers march from se...</td>\n",
       "      <td>years mlk march voting rights vulnerable</td>\n",
       "      <td>https://edition.cnn.com/2013/01/18/opinion/mil...</td>\n",
       "      <td>CNN</td>\n",
       "      <td>left</td>\n",
       "      <td>113th</td>\n",
       "    </tr>\n",
       "    <tr>\n",
       "      <th>3</th>\n",
       "      <td>20/01/2013</td>\n",
       "      <td>barack and michelle obama have spent more than...</td>\n",
       "      <td>change years friends shifts obamas</td>\n",
       "      <td>C:/Users/2146806A/OneDrive - University of Gla...</td>\n",
       "      <td>The New York Times</td>\n",
       "      <td>left</td>\n",
       "      <td>113th</td>\n",
       "    </tr>\n",
       "    <tr>\n",
       "      <th>4</th>\n",
       "      <td>21/01/2013</td>\n",
       "      <td>sean hannity host and welcome to hannity just ...</td>\n",
       "      <td>interview karl rove</td>\n",
       "      <td>C:/Users/2146806A/OneDrive - University of Gla...</td>\n",
       "      <td>Fox News</td>\n",
       "      <td>right</td>\n",
       "      <td>113th</td>\n",
       "    </tr>\n",
       "  </tbody>\n",
       "</table>\n",
       "</div>"
      ],
      "text/plain": [
       "         date                                           maintext  \\\n",
       "0  03/01/2013  greg gutfeld cohost hello america. i'm greg gu...   \n",
       "1  11/01/2013  with the latest threat to his leadership easil...   \n",
       "2  18/01/2013  story highlights mills remembers march from se...   \n",
       "3  20/01/2013  barack and michelle obama have spent more than...   \n",
       "4  21/01/2013  sean hannity host and welcome to hannity just ...   \n",
       "\n",
       "                                      title  \\\n",
       "0     reagan era al jazeera buys current tv   \n",
       "1            job safe straus challenge gop.   \n",
       "2  years mlk march voting rights vulnerable   \n",
       "3        change years friends shifts obamas   \n",
       "4                       interview karl rove   \n",
       "\n",
       "                                              source          media_name  \\\n",
       "0  C:/Users/2146806A/OneDrive - University of Gla...            Fox News   \n",
       "1  C:/Users/2146806A/OneDrive - University of Gla...  The New York Times   \n",
       "2  https://edition.cnn.com/2013/01/18/opinion/mil...                 CNN   \n",
       "3  C:/Users/2146806A/OneDrive - University of Gla...  The New York Times   \n",
       "4  C:/Users/2146806A/OneDrive - University of Gla...            Fox News   \n",
       "\n",
       "  ideology Congress  \n",
       "0    right    113th  \n",
       "1     left    113th  \n",
       "2     left    113th  \n",
       "3     left    113th  \n",
       "4    right    113th  "
      ]
     },
     "execution_count": 81,
     "metadata": {},
     "output_type": "execute_result"
    }
   ],
   "source": [
    "df.head()"
   ]
  },
  {
   "cell_type": "code",
   "execution_count": 25,
   "metadata": {},
   "outputs": [],
   "source": [
    "# Print the 20 random rows of the maintext column\n",
    "df['maintext'].sample(30)\n",
    "\n",
    "# exporting 30 first rows of maintext column to txt file\n",
    "df['maintext'].sample(30).to_csv('C:/Users/2146806A/OneDrive - University of Glasgow/University of Glasgow/Amsterdam Visit/GITHUB FILES/maintext.txt', header=None, index=None, sep=' ', mode='a')"
   ]
  },
  {
   "cell_type": "markdown",
   "metadata": {},
   "source": [
    "### 9. Lemmatise text"
   ]
  },
  {
   "cell_type": "code",
   "execution_count": 18,
   "metadata": {},
   "outputs": [],
   "source": [
    "\n",
    "\n",
    "# Load the English language model\n",
    "nlp = spacy.load('en_core_web_sm')\n",
    "\n",
    "# Define a custom lemmatization function\n",
    "def lemma(text):\n",
    "    # Split the text into tokens\n",
    "    tokens = nlp(text)\n",
    "    \n",
    "    # Customize the lemmatization for specific words\n",
    "    lemmatized_tokens = []\n",
    "    for token in tokens:\n",
    "        if token.text.lower() == \"media\":\n",
    "            lemmatized_tokens.append(\"media\")\n",
    "        elif token.text.lower() == \"voting\":\n",
    "            lemmatized_tokens.append(\"vote\")\n",
    "        else:\n",
    "            lemmatized_tokens.append(token.lemma_)\n",
    "    \n",
    "    # Join the lemmatized tokens back into a string\n",
    "    return \" \".join(lemmatized_tokens)\n"
   ]
  },
  {
   "cell_type": "code",
   "execution_count": 21,
   "metadata": {},
   "outputs": [
    {
     "ename": "NameError",
     "evalue": "name 'lemma' is not defined",
     "output_type": "error",
     "traceback": [
      "\u001b[1;31m---------------------------------------------------------------------------\u001b[0m",
      "\u001b[1;31mNameError\u001b[0m                                 Traceback (most recent call last)",
      "\u001b[1;32mc:\\Users\\2146806A\\OneDrive - University of Glasgow\\University of Glasgow\\Amsterdam Visit\\GITHUB FILES\\Scripts\\Preprocessing-corpus_2.ipynb Cell 34\u001b[0m in \u001b[0;36m1\n\u001b[1;32m----> <a href='vscode-notebook-cell:/c%3A/Users/2146806A/OneDrive%20-%20University%20of%20Glasgow/University%20of%20Glasgow/Amsterdam%20Visit/GITHUB%20FILES/Scripts/Preprocessing-corpus_2.ipynb#X45sZmlsZQ%3D%3D?line=0'>1</a>\u001b[0m df[\u001b[39m'\u001b[39m\u001b[39mtext_lemma\u001b[39m\u001b[39m'\u001b[39m] \u001b[39m=\u001b[39m df[\u001b[39m'\u001b[39m\u001b[39mmaintext\u001b[39m\u001b[39m'\u001b[39m]\u001b[39m.\u001b[39mapply(lemma)\n\u001b[0;32m      <a href='vscode-notebook-cell:/c%3A/Users/2146806A/OneDrive%20-%20University%20of%20Glasgow/University%20of%20Glasgow/Amsterdam%20Visit/GITHUB%20FILES/Scripts/Preprocessing-corpus_2.ipynb#X45sZmlsZQ%3D%3D?line=1'>2</a>\u001b[0m df[\u001b[39m'\u001b[39m\u001b[39mtitle_lemma\u001b[39m\u001b[39m'\u001b[39m] \u001b[39m=\u001b[39m df[\u001b[39m'\u001b[39m\u001b[39mtitle\u001b[39m\u001b[39m'\u001b[39m]\u001b[39m.\u001b[39mapply(lemma)\n",
      "\u001b[1;31mNameError\u001b[0m: name 'lemma' is not defined"
     ]
    }
   ],
   "source": [
    "df['text_lemma'] = df['maintext'].apply(lemma)\n",
    "df['title_lemma'] = df['title'].apply(lemma)"
   ]
  },
  {
   "cell_type": "markdown",
   "metadata": {},
   "source": [
    "### 10. Create column without fullstops"
   ]
  },
  {
   "cell_type": "code",
   "execution_count": 104,
   "metadata": {},
   "outputs": [],
   "source": [
    "# Duplicate the 'maintext' and 'title' columns\n",
    "\n",
    "df['maintext_no_fullstop'] = df['maintext']\n",
    "\n",
    "# Define a function to remove full stops from a column\n",
    "def remove_fullstops(text):\n",
    "    if isinstance(text, str):\n",
    "        text = re.sub(r'\\.', '', text)  # Remove full stops\n",
    "        text = re.sub(r'\\s+', ' ', text)  # Remove extra white spaces\n",
    "        text = text.strip()  # Remove leading/trailing whitespace\n",
    "        return text\n",
    "    else:\n",
    "        return text\n",
    "\n",
    "\n",
    "# Apply the function to the duplicated columns\n",
    "df['maintext_no_fullstop'] = df['maintext_no_fullstop'].apply(remove_fullstops)\n",
    "# If you want to remove full stops from the 'title' column as well, uncomment the line below\n",
    "df['title'] = df['title'].apply(remove_fullstops)\n"
   ]
  },
  {
   "cell_type": "code",
   "execution_count": 21,
   "metadata": {},
   "outputs": [],
   "source": [
    "df['title_lemma'] = df['title_lemma'].apply(remove_fullstops)"
   ]
  },
  {
   "cell_type": "markdown",
   "metadata": {},
   "source": [
    "DONT RUN CODE BELOW!"
   ]
  },
  {
   "cell_type": "code",
   "execution_count": 22,
   "metadata": {},
   "outputs": [
    {
     "name": "stdout",
     "output_type": "stream",
     "text": [
      "2678786 38828\n"
     ]
    }
   ],
   "source": [
    "print(df['maintext'].str.split().str.len().sum(), df['title'].str.split().str.len().sum())"
   ]
  },
  {
   "cell_type": "code",
   "execution_count": 45,
   "metadata": {},
   "outputs": [
    {
     "data": {
      "text/html": [
       "<div>\n",
       "<style scoped>\n",
       "    .dataframe tbody tr th:only-of-type {\n",
       "        vertical-align: middle;\n",
       "    }\n",
       "\n",
       "    .dataframe tbody tr th {\n",
       "        vertical-align: top;\n",
       "    }\n",
       "\n",
       "    .dataframe thead th {\n",
       "        text-align: right;\n",
       "    }\n",
       "</style>\n",
       "<table border=\"1\" class=\"dataframe\">\n",
       "  <thead>\n",
       "    <tr style=\"text-align: right;\">\n",
       "      <th></th>\n",
       "      <th>date</th>\n",
       "      <th>maintext</th>\n",
       "      <th>title</th>\n",
       "      <th>source</th>\n",
       "      <th>media_name</th>\n",
       "      <th>ideology</th>\n",
       "      <th>Congress</th>\n",
       "      <th>maintext_no_fullstop</th>\n",
       "    </tr>\n",
       "  </thead>\n",
       "  <tbody>\n",
       "    <tr>\n",
       "      <th>0</th>\n",
       "      <td>03/01/2013</td>\n",
       "      <td>greg gutfeld cohost hello america. i'm greg gu...</td>\n",
       "      <td>reagan era al jazeera buys current tv</td>\n",
       "      <td>C:/Users/2146806A/OneDrive - University of Gla...</td>\n",
       "      <td>Fox News</td>\n",
       "      <td>right</td>\n",
       "      <td>113th</td>\n",
       "      <td>greg gutfeld cohost hello america i'm greg gut...</td>\n",
       "    </tr>\n",
       "    <tr>\n",
       "      <th>1</th>\n",
       "      <td>11/01/2013</td>\n",
       "      <td>with the latest threat to his leadership easil...</td>\n",
       "      <td>job safe straus challenge gop</td>\n",
       "      <td>C:/Users/2146806A/OneDrive - University of Gla...</td>\n",
       "      <td>The New York Times</td>\n",
       "      <td>left</td>\n",
       "      <td>113th</td>\n",
       "      <td>with the latest threat to his leadership easil...</td>\n",
       "    </tr>\n",
       "    <tr>\n",
       "      <th>2</th>\n",
       "      <td>18/01/2013</td>\n",
       "      <td>story highlights mills remembers march from se...</td>\n",
       "      <td>years mlk march voting rights vulnerable</td>\n",
       "      <td>https://edition.cnn.com/2013/01/18/opinion/mil...</td>\n",
       "      <td>CNN</td>\n",
       "      <td>left</td>\n",
       "      <td>113th</td>\n",
       "      <td>story highlights mills remembers march from se...</td>\n",
       "    </tr>\n",
       "    <tr>\n",
       "      <th>3</th>\n",
       "      <td>20/01/2013</td>\n",
       "      <td>barack and michelle obama have spent more than...</td>\n",
       "      <td>change years friends shifts obamas</td>\n",
       "      <td>C:/Users/2146806A/OneDrive - University of Gla...</td>\n",
       "      <td>The New York Times</td>\n",
       "      <td>left</td>\n",
       "      <td>113th</td>\n",
       "      <td>barack and michelle obama have spent more than...</td>\n",
       "    </tr>\n",
       "    <tr>\n",
       "      <th>4</th>\n",
       "      <td>21/01/2013</td>\n",
       "      <td>sean hannity host and welcome to hannity just ...</td>\n",
       "      <td>interview karl rove</td>\n",
       "      <td>C:/Users/2146806A/OneDrive - University of Gla...</td>\n",
       "      <td>Fox News</td>\n",
       "      <td>right</td>\n",
       "      <td>113th</td>\n",
       "      <td>sean hannity host and welcome to hannity just ...</td>\n",
       "    </tr>\n",
       "  </tbody>\n",
       "</table>\n",
       "</div>"
      ],
      "text/plain": [
       "         date                                           maintext  \\\n",
       "0  03/01/2013  greg gutfeld cohost hello america. i'm greg gu...   \n",
       "1  11/01/2013  with the latest threat to his leadership easil...   \n",
       "2  18/01/2013  story highlights mills remembers march from se...   \n",
       "3  20/01/2013  barack and michelle obama have spent more than...   \n",
       "4  21/01/2013  sean hannity host and welcome to hannity just ...   \n",
       "\n",
       "                                      title  \\\n",
       "0     reagan era al jazeera buys current tv   \n",
       "1             job safe straus challenge gop   \n",
       "2  years mlk march voting rights vulnerable   \n",
       "3        change years friends shifts obamas   \n",
       "4                       interview karl rove   \n",
       "\n",
       "                                              source          media_name  \\\n",
       "0  C:/Users/2146806A/OneDrive - University of Gla...            Fox News   \n",
       "1  C:/Users/2146806A/OneDrive - University of Gla...  The New York Times   \n",
       "2  https://edition.cnn.com/2013/01/18/opinion/mil...                 CNN   \n",
       "3  C:/Users/2146806A/OneDrive - University of Gla...  The New York Times   \n",
       "4  C:/Users/2146806A/OneDrive - University of Gla...            Fox News   \n",
       "\n",
       "  ideology Congress                               maintext_no_fullstop  \n",
       "0    right    113th  greg gutfeld cohost hello america i'm greg gut...  \n",
       "1     left    113th  with the latest threat to his leadership easil...  \n",
       "2     left    113th  story highlights mills remembers march from se...  \n",
       "3     left    113th  barack and michelle obama have spent more than...  \n",
       "4    right    113th  sean hannity host and welcome to hannity just ...  "
      ]
     },
     "execution_count": 45,
     "metadata": {},
     "output_type": "execute_result"
    }
   ],
   "source": [
    "df.head()"
   ]
  },
  {
   "cell_type": "code",
   "execution_count": 109,
   "metadata": {},
   "outputs": [],
   "source": [
    "def bigrams2(raw_text):\n",
    "    text = raw_text.replace(\"eric holder\", \"eric_holder\")\n",
    "    text = text.replace(\"john lewis\", \"john_lewis\")\n",
    "    text = text.replace(\"kris kobach\", \"kris_kobach\")\n",
    "    text = text.replace(\"brian kemp\", \"brian_kemp\")\n",
    "    text = text.replace(\"joe manchin\", \"joe_manchin\")\n",
    "    text = text.replace(\"joe biden\", \"biden\")\n",
    "    text = text.replace(\"president biden\", \"biden\")\n",
    "    text = text.replace(\"president joe biden\", \"biden\")\n",
    "    text = text.replace(\"president trump\", \"trump\")\n",
    "    text = text.replace(\"president donald trump\", \"trump\")\n",
    "    text = text.replace(\" id \", \" identification \")\n",
    "    text = text.replace(\"ron desantis\", \"ron_desantis\")\n",
    "    text = text.replace(\"trumpus\", \"trump\")\n",
    "    # split into words -> convert string into list\n",
    "    words = text.split()\n",
    "    words = [\" \".join(word.split()) for word in words]   # remove double spaces\n",
    "    # converting list back to string\n",
    "    return \" \".join(words)"
   ]
  },
  {
   "cell_type": "code",
   "execution_count": 110,
   "metadata": {},
   "outputs": [],
   "source": [
    "df['title'] = df['title'].apply(bigrams2)\n",
    "df['maintext'] = df['maintext'].apply(bigrams2)"
   ]
  },
  {
   "cell_type": "code",
   "execution_count": 70,
   "metadata": {},
   "outputs": [
    {
     "data": {
      "text/html": [
       "<div>\n",
       "<style scoped>\n",
       "    .dataframe tbody tr th:only-of-type {\n",
       "        vertical-align: middle;\n",
       "    }\n",
       "\n",
       "    .dataframe tbody tr th {\n",
       "        vertical-align: top;\n",
       "    }\n",
       "\n",
       "    .dataframe thead th {\n",
       "        text-align: right;\n",
       "    }\n",
       "</style>\n",
       "<table border=\"1\" class=\"dataframe\">\n",
       "  <thead>\n",
       "    <tr style=\"text-align: right;\">\n",
       "      <th></th>\n",
       "      <th>date</th>\n",
       "      <th>maintext</th>\n",
       "      <th>title</th>\n",
       "      <th>source</th>\n",
       "      <th>media_name</th>\n",
       "      <th>ideology</th>\n",
       "      <th>Congress</th>\n",
       "      <th>text_lemma</th>\n",
       "      <th>title_lemma</th>\n",
       "      <th>maintext_no_fullstop</th>\n",
       "    </tr>\n",
       "  </thead>\n",
       "  <tbody>\n",
       "    <tr>\n",
       "      <th>0</th>\n",
       "      <td>03/01/2013</td>\n",
       "      <td>greg gutfeld cohost america. greg gutfeld andr...</td>\n",
       "      <td>reagan era al jazeera buys current tv</td>\n",
       "      <td>C:/Users/2146806A/OneDrive - University of Gla...</td>\n",
       "      <td>Fox News</td>\n",
       "      <td>right</td>\n",
       "      <td>113th</td>\n",
       "      <td>greg gutfeld cohost america . greg gutfeld and...</td>\n",
       "      <td>reagan era al jazeera buy current tv</td>\n",
       "      <td>greg gutfeld cohost america greg gutfeld andre...</td>\n",
       "    </tr>\n",
       "    <tr>\n",
       "      <th>1</th>\n",
       "      <td>11/01/2013</td>\n",
       "      <td>latest threat leadership easily speaker house ...</td>\n",
       "      <td>job safe straus challenge gop</td>\n",
       "      <td>C:/Users/2146806A/OneDrive - University of Gla...</td>\n",
       "      <td>The New York Times</td>\n",
       "      <td>left</td>\n",
       "      <td>113th</td>\n",
       "      <td>late threat leadership easily speaker house jo...</td>\n",
       "      <td>job safe straus challenge gop</td>\n",
       "      <td>latest threat leadership easily speaker house ...</td>\n",
       "    </tr>\n",
       "    <tr>\n",
       "      <th>2</th>\n",
       "      <td>18/01/2013</td>\n",
       "      <td>story highlights mills remembers march selma m...</td>\n",
       "      <td>years mlk march voting rights vulnerable</td>\n",
       "      <td>https://edition.cnn.com/2013/01/18/opinion/mil...</td>\n",
       "      <td>CNN</td>\n",
       "      <td>left</td>\n",
       "      <td>113th</td>\n",
       "      <td>story highlight mill remember march selma mont...</td>\n",
       "      <td>year mlk march vote right vulnerable</td>\n",
       "      <td>story highlights mills remembers march selma m...</td>\n",
       "    </tr>\n",
       "    <tr>\n",
       "      <th>3</th>\n",
       "      <td>20/01/2013</td>\n",
       "      <td>barack michelle obama spent thousand days disp...</td>\n",
       "      <td>change years friends shifts obamas</td>\n",
       "      <td>C:/Users/2146806A/OneDrive - University of Gla...</td>\n",
       "      <td>The New York Times</td>\n",
       "      <td>left</td>\n",
       "      <td>113th</td>\n",
       "      <td>barack michelle obama spend thousand day displ...</td>\n",
       "      <td>change year friend shift obama</td>\n",
       "      <td>barack michelle obama spent thousand days disp...</td>\n",
       "    </tr>\n",
       "    <tr>\n",
       "      <th>4</th>\n",
       "      <td>21/01/2013</td>\n",
       "      <td>sean hannity host hannity moments ago presiden...</td>\n",
       "      <td>interview karl rove</td>\n",
       "      <td>C:/Users/2146806A/OneDrive - University of Gla...</td>\n",
       "      <td>Fox News</td>\n",
       "      <td>right</td>\n",
       "      <td>113th</td>\n",
       "      <td>sean hannity host hannity moment ago president...</td>\n",
       "      <td>interview karl rove</td>\n",
       "      <td>sean hannity host hannity moments ago presiden...</td>\n",
       "    </tr>\n",
       "  </tbody>\n",
       "</table>\n",
       "</div>"
      ],
      "text/plain": [
       "         date                                           maintext  \\\n",
       "0  03/01/2013  greg gutfeld cohost america. greg gutfeld andr...   \n",
       "1  11/01/2013  latest threat leadership easily speaker house ...   \n",
       "2  18/01/2013  story highlights mills remembers march selma m...   \n",
       "3  20/01/2013  barack michelle obama spent thousand days disp...   \n",
       "4  21/01/2013  sean hannity host hannity moments ago presiden...   \n",
       "\n",
       "                                      title  \\\n",
       "0     reagan era al jazeera buys current tv   \n",
       "1             job safe straus challenge gop   \n",
       "2  years mlk march voting rights vulnerable   \n",
       "3        change years friends shifts obamas   \n",
       "4                       interview karl rove   \n",
       "\n",
       "                                              source          media_name  \\\n",
       "0  C:/Users/2146806A/OneDrive - University of Gla...            Fox News   \n",
       "1  C:/Users/2146806A/OneDrive - University of Gla...  The New York Times   \n",
       "2  https://edition.cnn.com/2013/01/18/opinion/mil...                 CNN   \n",
       "3  C:/Users/2146806A/OneDrive - University of Gla...  The New York Times   \n",
       "4  C:/Users/2146806A/OneDrive - University of Gla...            Fox News   \n",
       "\n",
       "  ideology Congress                                         text_lemma  \\\n",
       "0    right    113th  greg gutfeld cohost america . greg gutfeld and...   \n",
       "1     left    113th  late threat leadership easily speaker house jo...   \n",
       "2     left    113th  story highlight mill remember march selma mont...   \n",
       "3     left    113th  barack michelle obama spend thousand day displ...   \n",
       "4    right    113th  sean hannity host hannity moment ago president...   \n",
       "\n",
       "                            title_lemma  \\\n",
       "0  reagan era al jazeera buy current tv   \n",
       "1         job safe straus challenge gop   \n",
       "2  year mlk march vote right vulnerable   \n",
       "3        change year friend shift obama   \n",
       "4                   interview karl rove   \n",
       "\n",
       "                                maintext_no_fullstop  \n",
       "0  greg gutfeld cohost america greg gutfeld andre...  \n",
       "1  latest threat leadership easily speaker house ...  \n",
       "2  story highlights mills remembers march selma m...  \n",
       "3  barack michelle obama spent thousand days disp...  \n",
       "4  sean hannity host hannity moments ago presiden...  "
      ]
     },
     "execution_count": 70,
     "metadata": {},
     "output_type": "execute_result"
    }
   ],
   "source": [
    "\n",
    "df['title_lemma'] = df['title'].apply(lemma)\n",
    "df.head()"
   ]
  },
  {
   "cell_type": "code",
   "execution_count": 91,
   "metadata": {},
   "outputs": [
    {
     "name": "stdout",
     "output_type": "stream",
     "text": [
      "no matches\n",
      "None\n"
     ]
    }
   ],
   "source": [
    "## CONCORDANCE ANALYSIS\n",
    "\n",
    "# import nltk\n",
    "# from nltk.tokenize import word_tokenize\n",
    "# from nltk.text import Text\n",
    "\n",
    "# Download necessary resources (uncomment the line below if not already downloaded)\n",
    "# nltk.download('punkt')\n",
    "\n",
    "# Assuming you have a DataFrame 'df' with 'maintext' and 'title' columns\n",
    "corpus_title = \" \".join(df['title'])\n",
    "tokens_title = word_tokenize(corpus_title)\n",
    "text_title = Text(tokens_title)\n",
    "\n",
    "# Function to generate concordance for a word in a given text\n",
    "def generate_concordance(text, word):\n",
    "    return text.concordance(word, width=100, lines=10)\n",
    "\n",
    "# Generate concordances for \"mail\" and \"mail-in\" in maintext\n",
    "concordance_mail_maintext = generate_concordance(text_title, \"trumpus\")\n",
    "\n",
    "print(concordance_mail_maintext)\n"
   ]
  },
  {
   "cell_type": "code",
   "execution_count": 106,
   "metadata": {},
   "outputs": [
    {
     "name": "stderr",
     "output_type": "stream",
     "text": [
      "[nltk_data] Downloading package wordnet to\n",
      "[nltk_data]     C:\\Users\\2146806A\\AppData\\Roaming\\nltk_data...\n",
      "[nltk_data]   Package wordnet is already up-to-date!\n"
     ]
    },
    {
     "name": "stdout",
     "output_type": "stream",
     "text": [
      "         date                                           maintext  \\\n",
      "0  03/01/2013  greg gutfeld cohost hello america. i'm greg gu...   \n",
      "1  11/01/2013  with the latest threat to his leadership easil...   \n",
      "2  18/01/2013  story highlights mills remembers march from se...   \n",
      "3  20/01/2013  barack and michelle obama have spent more than...   \n",
      "4  21/01/2013  sean hannity host and welcome to hannity just ...   \n",
      "\n",
      "                                     title  \\\n",
      "0     reagan era al jazeera buy current tv   \n",
      "1            job safe straus challenge gop   \n",
      "2  year mlk march voting rights vulnerable   \n",
      "3          change year friend shift obamas   \n",
      "4                      interview karl rove   \n",
      "\n",
      "                                              source          media_name  \\\n",
      "0  C:/Users/2146806A/OneDrive - University of Gla...            Fox News   \n",
      "1  C:/Users/2146806A/OneDrive - University of Gla...  The New York Times   \n",
      "2  https://edition.cnn.com/2013/01/18/opinion/mil...                 CNN   \n",
      "3  C:/Users/2146806A/OneDrive - University of Gla...  The New York Times   \n",
      "4  C:/Users/2146806A/OneDrive - University of Gla...            Fox News   \n",
      "\n",
      "  ideology Congress                               maintext_no_fullstop  \n",
      "0    right    113th  greg gutfeld cohost hello america i'm greg gut...  \n",
      "1     left    113th  with the latest threat to his leadership easil...  \n",
      "2     left    113th  story highlights mills remembers march from se...  \n",
      "3     left    113th  barack and michelle obama have spent more than...  \n",
      "4    right    113th  sean hannity host and welcome to hannity just ...  \n"
     ]
    }
   ],
   "source": [
    "# Download the WordNet corpus (uncomment the line below if not already downloaded)\n",
    "nltk.download('wordnet')\n",
    "\n",
    "# Create a lemmatizer\n",
    "lemmatizer = WordNetLemmatizer()\n",
    "\n",
    "# List of words to exclude from lemmatization\n",
    "exclude_from_lemmatization = ['rights', 'media']\n",
    "\n",
    "# Dictionary of word replacements\n",
    "word_replacements = {'dems': 'democrats', 'rep': 'republican', 'reps': 'republicans'}\n",
    "\n",
    "\n",
    "# Function to lemmatize a string while excluding certain words and handling replacements\n",
    "def lemmatize_with_exclusion_and_replacement(text):\n",
    "    words = text.split()\n",
    "    lemmatized_words = [lemmatizer.lemmatize(word) if word not in exclude_from_lemmatization else word for word in words]\n",
    "    replaced_words = [word_replacements.get(word, word) for word in lemmatized_words]\n",
    "    return ' '.join(replaced_words)\n",
    "\n",
    "# Assuming you have a DataFrame 'df' with a 'title' column\n",
    "df['title'] = df['title'].apply(lemmatize_with_exclusion_and_replacement)\n",
    "\n",
    "# Display the updated DataFrame\n",
    "print(df.head())\n"
   ]
  },
  {
   "cell_type": "markdown",
   "metadata": {},
   "source": [
    "### Shifterator"
   ]
  },
  {
   "cell_type": "code",
   "execution_count": 131,
   "metadata": {},
   "outputs": [
    {
     "data": {
      "text/html": [
       "<div>\n",
       "<style scoped>\n",
       "    .dataframe tbody tr th:only-of-type {\n",
       "        vertical-align: middle;\n",
       "    }\n",
       "\n",
       "    .dataframe tbody tr th {\n",
       "        vertical-align: top;\n",
       "    }\n",
       "\n",
       "    .dataframe thead th {\n",
       "        text-align: right;\n",
       "    }\n",
       "</style>\n",
       "<table border=\"1\" class=\"dataframe\">\n",
       "  <thead>\n",
       "    <tr style=\"text-align: right;\">\n",
       "      <th></th>\n",
       "      <th>score</th>\n",
       "      <th>word</th>\n",
       "      <th>left_right</th>\n",
       "    </tr>\n",
       "  </thead>\n",
       "  <tbody>\n",
       "    <tr>\n",
       "      <th>0</th>\n",
       "      <td>0.000094</td>\n",
       "      <td>divert</td>\n",
       "      <td>right</td>\n",
       "    </tr>\n",
       "    <tr>\n",
       "      <th>1</th>\n",
       "      <td>0.000047</td>\n",
       "      <td>prep</td>\n",
       "      <td>right</td>\n",
       "    </tr>\n",
       "    <tr>\n",
       "      <th>2</th>\n",
       "      <td>-0.000130</td>\n",
       "      <td>dissented</td>\n",
       "      <td>left</td>\n",
       "    </tr>\n",
       "    <tr>\n",
       "      <th>3</th>\n",
       "      <td>-0.000065</td>\n",
       "      <td>grapple</td>\n",
       "      <td>left</td>\n",
       "    </tr>\n",
       "    <tr>\n",
       "      <th>4</th>\n",
       "      <td>0.000564</td>\n",
       "      <td>tucker</td>\n",
       "      <td>right</td>\n",
       "    </tr>\n",
       "    <tr>\n",
       "      <th>...</th>\n",
       "      <td>...</td>\n",
       "      <td>...</td>\n",
       "      <td>...</td>\n",
       "    </tr>\n",
       "    <tr>\n",
       "      <th>6919</th>\n",
       "      <td>0.000047</td>\n",
       "      <td>ram</td>\n",
       "      <td>right</td>\n",
       "    </tr>\n",
       "    <tr>\n",
       "      <th>6920</th>\n",
       "      <td>0.000047</td>\n",
       "      <td>client</td>\n",
       "      <td>right</td>\n",
       "    </tr>\n",
       "    <tr>\n",
       "      <th>6921</th>\n",
       "      <td>0.000047</td>\n",
       "      <td>granting</td>\n",
       "      <td>right</td>\n",
       "    </tr>\n",
       "    <tr>\n",
       "      <th>6922</th>\n",
       "      <td>-0.000065</td>\n",
       "      <td>ala</td>\n",
       "      <td>left</td>\n",
       "    </tr>\n",
       "    <tr>\n",
       "      <th>6923</th>\n",
       "      <td>-0.000065</td>\n",
       "      <td>hancock</td>\n",
       "      <td>left</td>\n",
       "    </tr>\n",
       "  </tbody>\n",
       "</table>\n",
       "<p>6924 rows × 3 columns</p>\n",
       "</div>"
      ],
      "text/plain": [
       "         score       word left_right\n",
       "0     0.000094     divert      right\n",
       "1     0.000047       prep      right\n",
       "2    -0.000130  dissented       left\n",
       "3    -0.000065    grapple       left\n",
       "4     0.000564     tucker      right\n",
       "...        ...        ...        ...\n",
       "6919  0.000047        ram      right\n",
       "6920  0.000047     client      right\n",
       "6921  0.000047   granting      right\n",
       "6922 -0.000065        ala       left\n",
       "6923 -0.000065    hancock       left\n",
       "\n",
       "[6924 rows x 3 columns]"
      ]
     },
     "execution_count": 131,
     "metadata": {},
     "output_type": "execute_result"
    }
   ],
   "source": [
    "# ON TITLES \n",
    "\n",
    "df['title'] = df['title'].str.replace(\"'\", \"\")\n",
    "df['maintext_no_fullstop'] = df['maintext_no_fullstop'].str.replace(\"'\", \"\")\n",
    "\n",
    "# create two different datasets for media split by ideology\n",
    "ideology = df.groupby(\"ideology\")\n",
    "left = ideology.get_group('left')\n",
    "right = ideology.get_group('right')\n",
    "\n",
    "# we transform the text column into a string for both datasets\n",
    "left_text =left['title'].apply(str)\n",
    "right_text= right['title'].apply(str) \n",
    "\n",
    "tokens_left = [\" \".join(strings.split()) for strings in left_text] #takes a list of strings (left_text) and splits each string into a list of substrings (words) based on whitespaces\n",
    "string_left = \" \".join(tokens_left) # Joins the resulting list of strings\n",
    "\n",
    "tokens_right = [\" \".join(strings.split()) for strings in right_text] \n",
    "string_right = \" \".join(tokens_right)\n",
    "\n",
    "# we define a function that creates a dictionary with the tokens and the counts in each string\n",
    "def word_count(str):\n",
    "    counts = dict()\n",
    "    words = str.split()\n",
    "\n",
    "    for word in words:\n",
    "        if word in counts:\n",
    "            counts[word] += 1\n",
    "        else:\n",
    "            counts[word] = 1\n",
    "\n",
    "    return counts\n",
    "\n",
    "# word counts for each set of media\n",
    "left_dic = word_count(string_left)\n",
    "right_dic = word_count(string_right)\n",
    "\n",
    "import shifterator as sh\n",
    "# we use shifterator to calculate proportion shifts\n",
    "proportion_shift = sh.ProportionShift(type2freq_1=left_dic, type2freq_2=right_dic)\n",
    "\n",
    "# we get the scores out of the proportion shift\n",
    "test_dict=proportion_shift.get_shift_scores() \n",
    "# we create a dataframe with scores\n",
    "shift_titles = pd.DataFrame.from_dict({'score': list(test_dict.values()), 'word': list(test_dict.keys())})\n",
    "# separate scores by right vs left depending on whether the number is positive or negative\n",
    "shift_titles['left_right'] = np.where(shift_titles['score']<0, 'left', 'right')\n",
    "shift_titles"
   ]
  },
  {
   "cell_type": "code",
   "execution_count": 64,
   "metadata": {},
   "outputs": [
    {
     "data": {
      "text/plain": [
       "8.840516085218666e-05"
      ]
     },
     "execution_count": 64,
     "metadata": {},
     "output_type": "execute_result"
    }
   ],
   "source": [
    "shift_titles.loc[df2['word'] == \"donald\", 'score'].iloc[0]"
   ]
  },
  {
   "cell_type": "code",
   "execution_count": 134,
   "metadata": {},
   "outputs": [
    {
     "data": {
      "image/png": "[encoded data removed]",
      "text/plain": [
       "<Figure size 1300x1500 with 1 Axes>"
      ]
     },
     "metadata": {},
     "output_type": "display_data"
    }
   ],
   "source": [
    "# Filter out the words \"interview\" and \"rep\"\n",
    "words_to_remove = ['interview']\n",
    "shift_titles = shift_titles[~shift_titles['word'].isin(words_to_remove)]\n",
    "\n",
    "# calculate the maximum absolute score\n",
    "max_score = max(abs(shift_titles['score']))\n",
    "\n",
    "# calculate normalized scores with sign flip\n",
    "shift_titles['norm_score'] = shift_titles['score'].apply(lambda x: -x if x > 0 else abs(x)) / max_score * 100\n",
    "\n",
    "# Get the top 15 words by score for each group\n",
    "group1_top_20 = shift_titles[shift_titles['left_right'] == 'right'].nlargest(15, 'score')\n",
    "group2_top_20 = shift_titles[shift_titles['left_right'] == 'left'].nsmallest(15, 'score')\n",
    "\n",
    "# create bar chart\n",
    "fig, ax = plt.subplots(figsize=(13, 15))\n",
    "\n",
    "# Plot the top 20 words by score for each group\n",
    "ax.barh(group1_top_20['word'], group2_top_20['norm_score'], color='red', label='Right-leaning news media', height=0.5)\n",
    "ax.barh(group2_top_20['word'], group1_top_20['norm_score'], color='blue', label='Left-leaning news media', height=0.5)\n",
    "plt.xlabel('Score', fontsize=13)\n",
    "plt.ylabel('Words', fontsize=13)\n",
    "plt.xticks(rotation=90)\n",
    "plt.title('Top 20 Words by Proportion Shift Score per Media Group', fontsize=15)\n",
    "plt.legend()\n",
    "plt.gca().invert_yaxis()\n",
    "ax.grid(axis='x', color='gray', linestyle='dashdot', linewidth=0.3, alpha=0.5)\n",
    "\n",
    "# Set the font size of the tick labels on the Y axis\n",
    "ax.tick_params(axis='y', labelsize=12)\n",
    "\n",
    "# set the fontsize of the legend\n",
    "ax.legend(fontsize=12)\n",
    "\n",
    "plt.show()\n",
    "#fig.savefig('C:/Users/2146806A/OneDrive - University of Glasgow/University of Glasgow/Amsterdam Visit/GITHUB FILES/Plots/shifterator', dpi=300, bbox_inches='tight')\n"
   ]
  },
  {
   "cell_type": "code",
   "execution_count": 138,
   "metadata": {},
   "outputs": [
    {
     "name": "stderr",
     "output_type": "stream",
     "text": [
      "C:\\Users\\2146806A\\AppData\\Local\\Temp\\ipykernel_31324\\3695231213.py:4: FutureWarning: The default value of regex will change from True to False in a future version.\n",
      "  df['title'] = df['title'].str.replace(r'\\bid\\b', 'identification', case=False)\n"
     ]
    }
   ],
   "source": [
    "abbr_replacements = {\n",
    "    r'\\bdem\\b': 'democrats',\n",
    "    r'\\bcovid\\b': 'coronavirus',\n",
    "    r'\\binterviewed\\b': ' ',\n",
    "    r'\\bid\\b': 'identification',\n",
    "    r'\\bga\\b': 'georgia',\n",
    "    r'\\bny\\b': 'new_york',\n",
    "    r'\\bnc\\b': 'north_carolina',\n",
    "    r'\\bsc\\b': 'south_carolina'\n",
    "}\n",
    "\n",
    "for pattern, replacement in abbr_replacements.items():\n",
    "    df['title'] = df['title'].str.replace(pattern, replacement, case=False)\n"
   ]
  },
  {
   "cell_type": "code",
   "execution_count": 147,
   "metadata": {},
   "outputs": [
    {
     "name": "stdout",
     "output_type": "stream",
     "text": [
      "no matches\n",
      "None\n"
     ]
    }
   ],
   "source": [
    "## CONCORDANCE ANALYSIS\n",
    "corpus_title = \" \".join(df['title'])\n",
    "tokens_title = word_tokenize(corpus_title)\n",
    "text_title = Text(tokens_title)\n",
    "\n",
    "def generate_concordance(text, word):\n",
    "    return text.concordance(word, width=100, lines=10)\n",
    "\n",
    "concordance_mail_maintext = generate_concordance(text_title, \"usa\")\n",
    "print(concordance_mail_maintext)"
   ]
  },
  {
   "cell_type": "code",
   "execution_count": 91,
   "metadata": {},
   "outputs": [
    {
     "data": {
      "text/plain": [
       "100.0"
      ]
     },
     "execution_count": 91,
     "metadata": {},
     "output_type": "execute_result"
    }
   ],
   "source": [
    "shift_titles\n",
    "max_score = shift_titles['norm_score'].max()\n",
    "max_score\n"
   ]
  },
  {
   "cell_type": "code",
   "execution_count": 135,
   "metadata": {},
   "outputs": [],
   "source": [
    "shift_titles.to_csv('C:/Users/2146806A/OneDrive - University of Glasgow/University of Glasgow/Amsterdam Visit/GITHUB FILES/Data/shifterator_scores_text_nov23.csv', index = False)"
   ]
  },
  {
   "cell_type": "code",
   "execution_count": 83,
   "metadata": {},
   "outputs": [
    {
     "data": {
      "text/html": [
       "<div>\n",
       "<style scoped>\n",
       "    .dataframe tbody tr th:only-of-type {\n",
       "        vertical-align: middle;\n",
       "    }\n",
       "\n",
       "    .dataframe tbody tr th {\n",
       "        vertical-align: top;\n",
       "    }\n",
       "\n",
       "    .dataframe thead th {\n",
       "        text-align: right;\n",
       "    }\n",
       "</style>\n",
       "<table border=\"1\" class=\"dataframe\">\n",
       "  <thead>\n",
       "    <tr style=\"text-align: right;\">\n",
       "      <th></th>\n",
       "      <th>score</th>\n",
       "      <th>word</th>\n",
       "      <th>left_right</th>\n",
       "    </tr>\n",
       "  </thead>\n",
       "  <tbody>\n",
       "    <tr>\n",
       "      <th>0</th>\n",
       "      <td>-0.000062</td>\n",
       "      <td>fan</td>\n",
       "      <td>left</td>\n",
       "    </tr>\n",
       "    <tr>\n",
       "      <th>1</th>\n",
       "      <td>-0.000018</td>\n",
       "      <td>protesting</td>\n",
       "      <td>left</td>\n",
       "    </tr>\n",
       "    <tr>\n",
       "      <th>2</th>\n",
       "      <td>0.000088</td>\n",
       "      <td>fully</td>\n",
       "      <td>right</td>\n",
       "    </tr>\n",
       "    <tr>\n",
       "      <th>3</th>\n",
       "      <td>0.000169</td>\n",
       "      <td>concerns</td>\n",
       "      <td>right</td>\n",
       "    </tr>\n",
       "    <tr>\n",
       "      <th>4</th>\n",
       "      <td>0.000071</td>\n",
       "      <td>status</td>\n",
       "      <td>right</td>\n",
       "    </tr>\n",
       "    <tr>\n",
       "      <th>...</th>\n",
       "      <td>...</td>\n",
       "      <td>...</td>\n",
       "      <td>...</td>\n",
       "    </tr>\n",
       "    <tr>\n",
       "      <th>7918</th>\n",
       "      <td>-0.000141</td>\n",
       "      <td>wednesday</td>\n",
       "      <td>left</td>\n",
       "    </tr>\n",
       "    <tr>\n",
       "      <th>7919</th>\n",
       "      <td>0.000044</td>\n",
       "      <td>votereducation</td>\n",
       "      <td>right</td>\n",
       "    </tr>\n",
       "    <tr>\n",
       "      <th>7920</th>\n",
       "      <td>0.000044</td>\n",
       "      <td>indefinitely</td>\n",
       "      <td>right</td>\n",
       "    </tr>\n",
       "    <tr>\n",
       "      <th>7921</th>\n",
       "      <td>0.000442</td>\n",
       "      <td>rla</td>\n",
       "      <td>right</td>\n",
       "    </tr>\n",
       "    <tr>\n",
       "      <th>7922</th>\n",
       "      <td>0.000044</td>\n",
       "      <td>door</td>\n",
       "      <td>right</td>\n",
       "    </tr>\n",
       "  </tbody>\n",
       "</table>\n",
       "<p>7923 rows × 3 columns</p>\n",
       "</div>"
      ],
      "text/plain": [
       "         score            word left_right\n",
       "0    -0.000062             fan       left\n",
       "1    -0.000018      protesting       left\n",
       "2     0.000088           fully      right\n",
       "3     0.000169        concerns      right\n",
       "4     0.000071          status      right\n",
       "...        ...             ...        ...\n",
       "7918 -0.000141       wednesday       left\n",
       "7919  0.000044  votereducation      right\n",
       "7920  0.000044    indefinitely      right\n",
       "7921  0.000442             rla      right\n",
       "7922  0.000044            door      right\n",
       "\n",
       "[7923 rows x 3 columns]"
      ]
     },
     "execution_count": 83,
     "metadata": {},
     "output_type": "execute_result"
    }
   ],
   "source": [
    "# ON LEMMATISED TITLES\n",
    "df['title_lemma'] = df['title'].str.replace(\"'\", \"\")\n",
    "\n",
    "# create two different datasets for media split by ideology\n",
    "ideology = df.groupby(\"ideology\")\n",
    "left = ideology.get_group('left')\n",
    "right = ideology.get_group('right')\n",
    "\n",
    "# we transform the text column into a string for both datasets\n",
    "left_text =left['title_lemma'].apply(str)\n",
    "right_text= right['title_lemma'].apply(str) \n",
    "\n",
    "tokens_left = [\" \".join(strings.split()) for strings in left_text] #takes a list of strings (left_text) and splits each string into a list of substrings (words) based on whitespaces\n",
    "string_left = \" \".join(tokens_left) # Joins the resulting list of strings\n",
    "\n",
    "tokens_right = [\" \".join(strings.split()) for strings in right_text] \n",
    "string_right = \" \".join(tokens_right)\n",
    "\n",
    "# we define a function that creates a dictionary with the tokens and the counts in each string\n",
    "def word_count(str):\n",
    "    counts = dict()\n",
    "    words = str.split()\n",
    "\n",
    "    for word in words:\n",
    "        if word in counts:\n",
    "            counts[word] += 1\n",
    "        else:\n",
    "            counts[word] = 1\n",
    "\n",
    "    return counts\n",
    "\n",
    "\n",
    "# word counts for each set of media\n",
    "left_dic = word_count(string_left)\n",
    "right_dic = word_count(string_right)\n",
    "\n",
    "import shifterator as sh\n",
    "# we use shifterator to calculate proportion shifts\n",
    "proportion_shift_lemma = sh.ProportionShift(type2freq_1=left_dic, type2freq_2=right_dic)\n",
    "\n",
    "import numpy as np\n",
    "\n",
    "# we get the scores out of the proportion shift\n",
    "test_dict_lemma=proportion_shift_lemma.get_shift_scores() \n",
    "# we create a dataframe with scores\n",
    "shift_titles_lemma = pd.DataFrame.from_dict({'score': list(test_dict_lemma.values()), 'word': list(test_dict_lemma.keys())})\n",
    "# separate scores by right vs left depending on whether the number is positive or negative\n",
    "shift_titles_lemma['left_right'] = np.where(shift_titles_lemma['score']<0, 'left', 'right')\n",
    "shift_titles_lemma"
   ]
  },
  {
   "cell_type": "code",
   "execution_count": 84,
   "metadata": {},
   "outputs": [
    {
     "data": {
      "image/png": "[encoded data removed]",
      "text/plain": [
       "<Figure size 1300x1500 with 1 Axes>"
      ]
     },
     "metadata": {},
     "output_type": "display_data"
    }
   ],
   "source": [
    "import matplotlib.pyplot as plt\n",
    "\n",
    "# calculate the maximum absolute score\n",
    "max_score = max(abs(shift_titles_lemma['score']))\n",
    "\n",
    "# calculate normalized scores with sign flip\n",
    "shift_titles_lemma['norm_score'] = shift_titles_lemma['score'].apply(lambda x: -x if x > 0 else abs(x)) / max_score * 100\n",
    "\n",
    "# Get the top 15 words by score for each group\n",
    "group1_top_20 = shift_titles_lemma[shift_titles_lemma['left_right'] == 'right'].nlargest(20, 'score')\n",
    "group2_top_20 = shift_titles_lemma[shift_titles_lemma['left_right'] == 'left'].nsmallest(20, 'score')\n",
    "\n",
    "# create bar chart\n",
    "fig, ax = plt.subplots(figsize=(13, 15))\n",
    "\n",
    "# Plot the top 20 words by score for each group\n",
    "ax.barh(group1_top_20['word'], group2_top_20['norm_score'], color='red', label='Right-leaning news media', height=0.5)\n",
    "ax.barh(group2_top_20['word'], group1_top_20['norm_score'], color='blue', label='Left-leaning news media', height=0.5)\n",
    "plt.xlabel('Score', fontsize=13)\n",
    "plt.ylabel('Words', fontsize=13)\n",
    "plt.xticks(rotation=90)\n",
    "plt.title('Top 20 Words by Proportion Shift Score per Media Group', fontsize=15)\n",
    "plt.legend()\n",
    "plt.gca().invert_yaxis()\n",
    "ax.grid(axis='x', color='gray', linestyle='dashdot', linewidth=0.3, alpha=0.5)\n",
    "\n",
    "# Set the font size of the tick labels on the Y axis\n",
    "ax.tick_params(axis='y', labelsize=12)\n",
    "\n",
    "# set the fontsize of the legend\n",
    "ax.legend(fontsize=12)\n",
    "\n",
    "plt.show()\n",
    "#fig.savefig('C:/Users/2146806A/OneDrive - University of Glasgow/University of Glasgow/Amsterdam Visit/GITHUB FILES/Plots/shifterator', dpi=300, bbox_inches='tight')\n"
   ]
  },
  {
   "cell_type": "markdown",
   "metadata": {},
   "source": [
    "## Word Frequencies"
   ]
  },
  {
   "cell_type": "code",
   "execution_count": 78,
   "metadata": {},
   "outputs": [],
   "source": [
    "# creating two different datasets for media split by ideology\n",
    "ideology = df.groupby(\"ideology\")\n",
    "left = ideology.get_group('left')\n",
    "right = ideology.get_group('right')"
   ]
  },
  {
   "cell_type": "code",
   "execution_count": 79,
   "metadata": {},
   "outputs": [],
   "source": [
    "# Finding top words in overall corpus\n",
    "cnt_df = (pd.DataFrame(Counter(\" \".join(df[\"maintext\"]).split(\" \")).most_common(10))) \n",
    "cnt_df.columns=['df', 'freq']\n",
    "\n",
    "# Top right media words\n",
    "cnt_right = (pd.DataFrame(Counter(\" \".join(right[\"maintext\"]).split(\" \")).most_common(10)))\n",
    "cnt_right.columns=['right', 'freq']\n",
    "\n",
    "# Top left media words\n",
    "cnt_left = (pd.DataFrame(Counter(\" \".join(left[\"maintext\"]).split(\" \")).most_common(10)))\n",
    "cnt_left.columns=['left', 'freq']"
   ]
  },
  {
   "cell_type": "code",
   "execution_count": 80,
   "metadata": {},
   "outputs": [
    {
     "data": {
      "text/html": [
       "<div>\n",
       "<style scoped>\n",
       "    .dataframe tbody tr th:only-of-type {\n",
       "        vertical-align: middle;\n",
       "    }\n",
       "\n",
       "    .dataframe tbody tr th {\n",
       "        vertical-align: top;\n",
       "    }\n",
       "\n",
       "    .dataframe thead th {\n",
       "        text-align: right;\n",
       "    }\n",
       "</style>\n",
       "<table border=\"1\" class=\"dataframe\">\n",
       "  <thead>\n",
       "    <tr style=\"text-align: right;\">\n",
       "      <th></th>\n",
       "      <th>df</th>\n",
       "      <th>freq</th>\n",
       "      <th>left</th>\n",
       "      <th>freq</th>\n",
       "      <th>right</th>\n",
       "      <th>freq</th>\n",
       "    </tr>\n",
       "  </thead>\n",
       "  <tbody>\n",
       "    <tr>\n",
       "      <th>0</th>\n",
       "      <td>state</td>\n",
       "      <td>19263</td>\n",
       "      <td>voting</td>\n",
       "      <td>13353</td>\n",
       "      <td>people</td>\n",
       "      <td>11863</td>\n",
       "    </tr>\n",
       "    <tr>\n",
       "      <th>1</th>\n",
       "      <td>people</td>\n",
       "      <td>18883</td>\n",
       "      <td>state</td>\n",
       "      <td>12854</td>\n",
       "      <td>president</td>\n",
       "      <td>7975</td>\n",
       "    </tr>\n",
       "    <tr>\n",
       "      <th>2</th>\n",
       "      <td>voting</td>\n",
       "      <td>18148</td>\n",
       "      <td>voter</td>\n",
       "      <td>10787</td>\n",
       "      <td>biden</td>\n",
       "      <td>6948</td>\n",
       "    </tr>\n",
       "    <tr>\n",
       "      <th>3</th>\n",
       "      <td>election</td>\n",
       "      <td>17003</td>\n",
       "      <td>election</td>\n",
       "      <td>10241</td>\n",
       "      <td>election</td>\n",
       "      <td>6762</td>\n",
       "    </tr>\n",
       "    <tr>\n",
       "      <th>4</th>\n",
       "      <td>voter</td>\n",
       "      <td>16717</td>\n",
       "      <td>voters</td>\n",
       "      <td>8786</td>\n",
       "      <td>state</td>\n",
       "      <td>6409</td>\n",
       "    </tr>\n",
       "    <tr>\n",
       "      <th>5</th>\n",
       "      <td>president</td>\n",
       "      <td>12824</td>\n",
       "      <td>mr.</td>\n",
       "      <td>7691</td>\n",
       "      <td>trump</td>\n",
       "      <td>5960</td>\n",
       "    </tr>\n",
       "    <tr>\n",
       "      <th>6</th>\n",
       "      <td>trump</td>\n",
       "      <td>12686</td>\n",
       "      <td>republican</td>\n",
       "      <td>7026</td>\n",
       "      <td>voter</td>\n",
       "      <td>5930</td>\n",
       "    </tr>\n",
       "    <tr>\n",
       "      <th>7</th>\n",
       "      <td>voters</td>\n",
       "      <td>12082</td>\n",
       "      <td>people</td>\n",
       "      <td>7020</td>\n",
       "      <td>voting</td>\n",
       "      <td>4795</td>\n",
       "    </tr>\n",
       "    <tr>\n",
       "      <th>8</th>\n",
       "      <td>identification</td>\n",
       "      <td>11353</td>\n",
       "      <td>identification</td>\n",
       "      <td>6806</td>\n",
       "      <td>democrats</td>\n",
       "      <td>4772</td>\n",
       "    </tr>\n",
       "    <tr>\n",
       "      <th>9</th>\n",
       "      <td>vote</td>\n",
       "      <td>10986</td>\n",
       "      <td>vote</td>\n",
       "      <td>6800</td>\n",
       "      <td>identification</td>\n",
       "      <td>4547</td>\n",
       "    </tr>\n",
       "  </tbody>\n",
       "</table>\n",
       "</div>"
      ],
      "text/plain": [
       "               df   freq            left   freq           right   freq\n",
       "0           state  19263          voting  13353          people  11863\n",
       "1          people  18883           state  12854       president   7975\n",
       "2          voting  18148           voter  10787           biden   6948\n",
       "3        election  17003        election  10241        election   6762\n",
       "4           voter  16717          voters   8786           state   6409\n",
       "5       president  12824             mr.   7691           trump   5960\n",
       "6           trump  12686      republican   7026           voter   5930\n",
       "7          voters  12082          people   7020          voting   4795\n",
       "8  identification  11353  identification   6806       democrats   4772\n",
       "9            vote  10986            vote   6800  identification   4547"
      ]
     },
     "execution_count": 80,
     "metadata": {},
     "output_type": "execute_result"
    }
   ],
   "source": [
    "cnt = [cnt_df, cnt_left, cnt_right]\n",
    "result = pd.concat(cnt, axis=1)\n",
    "result"
   ]
  },
  {
   "cell_type": "code",
   "execution_count": null,
   "metadata": {},
   "outputs": [],
   "source": [
    "# Defining function to plot top words\n",
    "import pandas as pd\n",
    "import matplotlib.pyplot as plt\n",
    "\n",
    "def scatterplot(df, x_dim, y_dim):\n",
    "  x = df[x_dim]\n",
    "  y = df[y_dim]\n",
    "  fig, ax = plt.subplots(figsize=(15, 7))\n",
    "  #customizes alpha for each dot in the scatter plot\n",
    "  ax.scatter(x, y, alpha=0.70)\n",
    " \n",
    "  #adds a title and axes labels\n",
    "  ax.set_title('Word Frequencies')\n",
    "  ax.set_xlabel('Frequency')\n",
    "  ax.set_ylabel('Word')\n",
    " \n",
    "  #removing top and right borders\n",
    "  ax.spines['top'].set_visible(False)\n",
    "  ax.spines['right'].set_visible(False)\n",
    "  #adds major gridlines\n",
    "  ax.grid(color='grey', linestyle='-', linewidth=0.25, alpha=0.5)\n",
    "  plt.show()"
   ]
  },
  {
   "cell_type": "code",
   "execution_count": null,
   "metadata": {},
   "outputs": [
    {
     "data": {
      "image/png": "[encoded data removed]",
      "text/plain": [
       "<Figure size 1080x504 with 1 Axes>"
      ]
     },
     "metadata": {
      "needs_background": "light"
     },
     "output_type": "display_data"
    }
   ],
   "source": [
    "# Plotting top words\n",
    "scatterplot(cnt_df, 'freq', 'df')"
   ]
  },
  {
   "cell_type": "code",
   "execution_count": 136,
   "metadata": {},
   "outputs": [],
   "source": [
    "# save data to csv file\n",
    "df.to_csv('C:/Users/2146806A/OneDrive - University of Glasgow/University of Glasgow/Amsterdam Visit/GITHUB FILES/Data/preprocessed_nov23.csv', index = False)"
   ]
  },
  {
   "cell_type": "code",
   "execution_count": null,
   "metadata": {},
   "outputs": [],
   "source": [
    "# export text data to txt file for Iramuteq analysis\n",
    "# left media\n",
    "articles_l =left['maintext'].apply(str) \n",
    "with open('articles_left_nop.txt', 'w') as f:\n",
    "    for line in articles_l:\n",
    "        f.write(line)\n",
    "        f.write(' ')\n",
    "\n",
    "# right media\n",
    "articles_r =right['maintext'].apply(str) \n",
    "with open('articles_right_nop.txt', 'w') as f:\n",
    "    for line in articles_r:\n",
    "        f.write(line)\n",
    "        f.write(' ')"
   ]
  },
  {
   "cell_type": "code",
   "execution_count": null,
   "metadata": {},
   "outputs": [],
   "source": [
    "# all articles\n",
    "articletext = df['text'].apply(str) \n",
    "with open('text.txt', 'w') as f:\n",
    "    for line in articletext:\n",
    "        f.write(line)\n",
    "        f.write(' ')"
   ]
  }
 ],
 "metadata": {
  "kernelspec": {
   "display_name": "Python 3.10.7 64-bit",
   "language": "python",
   "name": "python3"
  },
  "language_info": {
   "codemirror_mode": {
    "name": "ipython",
    "version": 3
   },
   "file_extension": ".py",
   "mimetype": "text/x-python",
   "name": "python",
   "nbconvert_exporter": "python",
   "pygments_lexer": "ipython3",
   "version": "3.10.8"
  },
  "orig_nbformat": 4,
  "vscode": {
   "interpreter": {
    "hash": "ad9a8652fd8074767ec9b501c185cfa6d8f193e6a2904fd076b3ae6571b031c8"
   }
  }
 },
 "nbformat": 4,
 "nbformat_minor": 2
}
